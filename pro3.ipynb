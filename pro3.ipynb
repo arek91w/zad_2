{
 "cells": [
  {
   "cell_type": "code",
   "execution_count": 39,
   "metadata": {
    "colab": {
     "base_uri": "https://localhost:8080/",
     "height": 282
    },
    "id": "VUFLcExfkscA",
    "outputId": "4411807a-8f13-44c7-b002-8c8ef29f7d55"
   },
   "outputs": [
    {
     "name": "stdout",
     "output_type": "stream",
     "text": [
      "1.0108392604446956\n"
     ]
    },
    {
     "data": {
      "text/plain": [
       "<function matplotlib.pyplot.show(close=None, block=None)>"
      ]
     },
     "execution_count": 39,
     "metadata": {},
     "output_type": "execute_result"
    },
    {
     "data": {
      "image/png": "[encoded data removed]",
      "text/plain": [
       "<Figure size 432x288 with 1 Axes>"
      ]
     },
     "metadata": {
      "needs_background": "light"
     },
     "output_type": "display_data"
    }
   ],
   "source": [
    "import numpy as np\n",
    "import matplotlib.pyplot as plt\n",
    "\n",
    "\n",
    "def model1(dane,X,Y):\n",
    "  sumaX = 0\n",
    "  sumaX2 = 0\n",
    "  sumaY = 0\n",
    "  sumaXY = 0\n",
    "  dl = len(X)\n",
    "\n",
    "  for i in range(dl):\n",
    "    sumaX += X[i]\n",
    "    sumaX2 += X[i]**2\n",
    "    sumaY += Y[i]\n",
    "    sumaXY += X[i]*Y[i]\n",
    "  w1 = (sumaXY*dl - sumaX*sumaY)/(dl*sumaX2 - (sumaX**2))\n",
    "  w0 = (sumaY*sumaX2 - sumaX*sumaXY)/(dl*sumaX2 - (sumaX**2))\n",
    "  danew = []\n",
    "  for i in dane:\n",
    "    danew.append(w1*i+w0)\n",
    "  return danew\n",
    "\n",
    "\n",
    "def model2(dane,X,Y):\n",
    "  sumaX=0\n",
    "  sumaX2=0\n",
    "  sumaX3=0\n",
    "  sumaX4=0\n",
    "  sumaY=0\n",
    "  sumaXY=0\n",
    "  sumaX2Y=0\n",
    "  dl = len(X)\n",
    "  \n",
    "  for i in range(dl):  \n",
    "    sumaX += X[i]\n",
    "    sumaX2 += X[i]**2\n",
    "    sumaX3 += X[i]**3\n",
    "    sumaX4 += X[i]**4\n",
    "    sumaY += Y[i]\n",
    "    sumaXY += X[i]*Y[i]\n",
    "    sumaX2Y += X[i]**2*Y[i]\n",
    "  m1 = np.array([[sumaX4, sumaX3, sumaX2],[sumaX3, sumaX2, sumaX],[sumaX2, sumaX, dl]])\n",
    "  m2 = np.array([sumaX2Y, sumaXY, sumaY])\n",
    "  m1 = np.linalg.inv(m1)\n",
    "  m = m1@m2\n",
    "\n",
    "  w2 = m[0]\n",
    "  w1 = m[1]\n",
    "  w0 = m[2]\n",
    "  danew = []\n",
    "  for i in dane:\n",
    "    w = w2*(i**2)+w1*i+w0\n",
    "    danew.append(w)\n",
    "  return danew\n",
    "\n",
    "\n",
    "\n",
    "file = open(\"Dane/dane{}.txt\".format(4), \"r\")\n",
    "X = []\n",
    "Y = []\n",
    "\n",
    "for x in file:\n",
    "  point = x.split(\" \")\n",
    "  point.remove('\\n')\n",
    "  X.append(float(point[0]))\n",
    "  Y.append(float(point[1]))\n",
    "\n",
    "\n",
    "\n",
    "dl = len(X)/3\n",
    "podzial = round(dl)\n",
    "\n",
    "trainX = []\n",
    "trainY = []\n",
    "\n",
    "i=0\n",
    "while i < len(X):\n",
    "  trainX.append(X[i])  \n",
    "  trainY.append(Y[i])  \n",
    "  i+=2\n",
    "\n",
    "testX = []\n",
    "testY = []\n",
    "i=0\n",
    "while i < len(X):\n",
    "  testX.append(X[i])  \n",
    "  testY.append(Y[i])  \n",
    "  i+=3\n",
    "\n",
    "\n",
    "m1test = model1(testX, trainX, trainY)\n",
    "m2test = model2(testX, trainX, trainY)\n",
    "\n",
    "\n",
    "\n",
    "def calc_error(dane, model):\n",
    "    mse = 0\n",
    "    for i in range(0, len(dane)):\n",
    "        diff = (float(model[i]) - float(dane[i]))**2\n",
    "        mse = mse + diff\n",
    "    mse = mse/(len(dane))\n",
    "    return mse\n",
    "        \n",
    "mse_model1 = calc_error(testY, m1test)\n",
    "mse_model2 = calc_error(testY, m1test)\n",
    "print(mse_model1)\n",
    "print(mse_model)\n",
    "\n",
    "plt.plot(testX, testY, 'b*')\n",
    "plt.plot(testX, m1test, 'r')\n",
    "plt.plot(testX, m2test, 'g')\n",
    "plt.show\n",
    "plt.show\n"
   ]
  },
  {
   "cell_type": "code",
   "execution_count": null,
   "metadata": {},
   "outputs": [],
   "source": []
  }
 ],
 "metadata": {
  "colab": {
   "collapsed_sections": [],
   "name": "pro3.ipynb",
   "provenance": []
  },
  "kernelspec": {
   "display_name": "Python 3",
   "language": "python",
   "name": "python3"
  },
  "language_info": {
   "codemirror_mode": {
    "name": "ipython",
    "version": 3
   },
   "file_extension": ".py",
   "mimetype": "text/x-python",
   "name": "python",
   "nbconvert_exporter": "python",
   "pygments_lexer": "ipython3",
   "version": "3.6.8"
  }
 },
 "nbformat": 4,
 "nbformat_minor": 4
}
